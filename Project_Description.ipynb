{
 "cells": [
  {
   "cell_type": "markdown",
   "metadata": {},
   "source": [
    "# IBM - Applied Data Science Capstone\n",
    "\n",
    "### Capstone Project – Battle of the Neighborhoods\n",
    "\n",
    "\n",
    "## Introduction\n",
    "\n",
    "Airbnb is an online-based company that connects people looking for accommodation (Airbnb guests) to people looking to rent their properties (Airbnb hosts) on a short-term or long-term basis. The rentals properties include apartments (dominant), homes, boats, and whole lot more. Renters are presented with a good selection of listings and can filter by criteria like price, number of bedrooms, room type, and more. \n",
    "\n",
    "\n",
    "A person is planning to spend a month in the District of Porto (Portugal) and is looking for a reasonable accommodation from Airbnb. In addition, the accommodation must be in a great location, considering the proximity to bakeries, restaurants and cafes.\n",
    "\n",
    "\n",
    "This project aims to solve this problem, by conducting some exploratory data analysis using the Foursquare API and the Airbnb list of properties. \n",
    "\n",
    "\n",
    "The criteria of the person are:\n",
    "\n",
    "\n",
    "-\tEntire home/apt\n",
    "\n",
    "\n",
    "-\tPrice by night bellow $100\n",
    "\n",
    "\n",
    "-\tProperties in neighborhoods that presents a good offer of Café, Bakery and Restaurant \n",
    "\n",
    "\n",
    "-\tThe most common type of properties in the selected neighborhoods\n",
    "\n",
    "\n",
    "-\tOnly properties with review score rating equal 100\n",
    "\n",
    "\n",
    "-\tProperties that accommodate 3 persons with 2 bedrooms \n",
    "\n",
    "\n",
    "## Dataset\n",
    "\n",
    "The dataset used for this project comes from Inside Airbnb: http://insideairbnb.com/get-the-data.html. The dataset that was employed was named listings.csv; it is a detailed data set with 106 attributes, a few of the attributes being: price per day (which will hereafter be simply referred to as price), number of beds, property type, neighborhood, cleaning fee, security deposit, host's ratings score, etc. The data contains a total of 12,005. I kept only listings with room type equal “Entire home/apt”. This reduced the number of listings to 9,285.\n",
    "\n",
    "\n",
    "The geographic dataset named neighborhood.geoson (available in Inside Airbnb) was used to create exploratory maps of the location.\n",
    "\n",
    "\n",
    "The analysis was combined with data from Foursquare API, to explore and obtain information about the top venues and amenities of each analyzed neighborhood."
   ]
  }
 ],
 "metadata": {
  "kernelspec": {
   "display_name": "Python 3",
   "language": "python",
   "name": "python3"
  },
  "language_info": {
   "codemirror_mode": {
    "name": "ipython",
    "version": 3
   },
   "file_extension": ".py",
   "mimetype": "text/x-python",
   "name": "python",
   "nbconvert_exporter": "python",
   "pygments_lexer": "ipython3",
   "version": "3.7.3"
  }
 },
 "nbformat": 4,
 "nbformat_minor": 2
}
